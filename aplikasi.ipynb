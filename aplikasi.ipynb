import csv
import datetime
from matplotlib import pyplot as plt

menu = "MENU"
nama= ""
barang = ""
jumlah = ""
indeks = ""
date = datetime.datetime.now()
tanggal = date.strftime("%c")

def tambah_data(nama,barang,jumlah,total):
    csv_file = open('pembelian.csv', 'r')
    csv_reader = csv.reader(csv_file,delimiter=';')
    data_pembelian = []

    for row in csv_reader:
        data_pembelian.append(row)    
        for col in row:
            if (jumlah == row[3]):
                print("Maaf, pilihan tidak terdeteksi")
    csv_file.close()
    
    csv_file = open('pembelian.csv','a',newline='')
    csv_writer = csv.writer(csv_file,delimiter=';')
    csv_writer.writerow([nama,barang,jumlah,total,tanggal])
    data_pembelian = []

    csv_file = open('datatrack.csv','a',newline='')
    csv_writer = csv.writer(csv_file,delimiter=';')
    csv_writer.writerow([nama,barang,jumlah,total,tanggal])
    csv_file.close()

    print("="*90)
    print("NAMA : ",nama)
    print("BARANG : ",barang)
    print("JUMLAH : ",jumlah)
    print("TOTAL : ",total)
    print("TANGGAL : ",tanggal)


#0Fungsi untuk menampilkan Menu Utama
def pilihMenuUtama():
      print("-------------------------------------------")
      print("_____________TOKO SAYID MAKMUR_____________")
      print("_______Jalan BojongSoang, Kota Bandung_____")
      print("-------------------------------------------")

      print('PILIH MENU :')
      print('[1] Registrasi')
      print('[2] Login')
      print('[3] Detail Barang')
      print('[4] Langsung Beli Bahan Bangunan')
      print('[5] Cek data Pembelian')
      print('[6] Exit')

#Array buat data login user = [[username,password,namauser]]
user = [['sayid',"pass","Admin"],["sayid","pass","sayid"]]

#1bikin akun baru
def register(username,password) :
    for u in range(len(user)) :
        if (user[u][0]==username) :
            regis = True
            break
        else :
            regis = False
    return regis

#2Cek user dan pass yang untuk akses
def cekLogin(username,password) :
    cekAkun = False
    global indeksNama
    for u in range(len(user)) :
        if ((user[u][0]==username) and (user[u][1]==password)) :
            indeksNama = u
            cekAkun = True
        else :
            pass
    return cekAkun

#option U/ Stok Barang
class A():

    def __init__(self):
        self.__x = 1

    def m1(self):
        print("Stok Barang : ")
        print("A. Paralon [1295 pcs]")
        print("B. Semen   [957  pcs]")
        print("C. Keramik [470  pcs]")
        print("D. Cat     [295  pcs]")

#option untuk Kode Barang
class B():

    def __init__(self):
        self.__x = 2

    def m2(self):
        print("Kode Barang : ")
        print("A. Paralon [011]")
        print("B. Semen   [012]")
        print("C. Keramik [013]")
        print("D. Cat     [014]")

    
#option U/ Barang Laris
class D():

    def __init__(self):
        self.__x = 3

    def m3(self):
        print("Barang Laris : ")
        print("A. Paralon [011]|| 1000 pcs/Tahun]")
        print("B. Cat     [014]|| 680 kaleng/Tahun")


def cek_data_pembelian():
    csv_file = open('pembelian.csv', 'r')
    csv_reader = csv.reader(csv_file,delimiter=';')
    data_pembelian = []
    for row in csv_reader:
        data_pembelian.append(row)
        labels = data_pembelian.pop(0)
        print("|",labels[0]," "*(13-len(labels[0])),
              "|",labels[1]," "*(13-len(labels[1])),
              "|",labels[2]," "*(13-len(labels[2])),
              "|",labels[3]," "*(4-len(labels[3])),
              "|",labels[4]," "*(4-len(labels[4])))
        print("_"*90)

        for data in data_pembelian:
            print("|",data[0]," "*(13-len(data[0])),
                  "|",data[1]," "*(13-len(labels[1])),
                  "|",data[2]," "*(13-len(data[2])),
                  "|",data[3]," "*(4-len(data[3])),
                  "|",data[4]," "*(4-len(data[4])))
    csv_file.close

#Pilih menu
def   Menu():
      print("===============Silahkan pilih Menu=============")
      print("===============================================")
      print("[1] Stok Barang")
      print("[2] Kode Barang")
      print("[3] Barang Laris")
      print("[4] Tambah Data Pembelian")
      print("===============================================")
      
#Pilih kategori Barang
def Kategori():
      print("Silahkan pilih Bahan Bangunan yang anda inginkan")
      print("===============================================")
      print("[1] Paralon")
      print("[2] Semen")
      print("[3] Keramik")
      print("[4] Cat")
      print("[5] Kembali ke menu awal")
      print("===============================================")

#Program Selesai
def selesai():
           print("=============================================")
           print("______________PROGRAM SELESAI________________")
           print("_______________TERIMA KASIH__________________")
           print("=============================================")


#Kenalin variabel pil
pil = 0
#Mengulangi terus sampai user input pilih 6
while pil != "6":
         #Menampilkan pemilahan Menu Utama
         pilihMenuUtama()
         
         #Jika pilih Registrasi
         pil = input("Pilih Menu : ")
         if pil == "1" :
           
            while (True) :
                nama     = input("Nama Lengkap : ")
                username = input("Username     : ")
                password = input("Password     : ")
                if (register(username,password) == True) :
                    print("Gagal Register\nUsername Sudah Digunakan")
                else :
                    print("______Registrasi Sukses______")
                    user.append([username,password,nama])
                    break
    
         #Jika pilih Login
         elif pil == "2" :
            username = input("Username : ")
            password = input("Password : ")
            if (cekLogin(username,password)==False) :
                print("Username / Password Salah")
            else :
                print("--------------------------------------------------------")
                print("Selamat Datang : {nama}".format(nama=user[indeksNama][2]))
                print("--------------------------------------------------------")
                          
         #Jika pilih Data Barang
         elif pil == "3":
            Menu()
            pilihMenu = input("Pilih Menu(nomor) : ") 
            if pilihMenu == "1" :
                        c = A()
                        c.m1()
                        pilihMenu = input("Pilih Menu(nomor) : ") 
                        break
                        
            if pilihMenu =="2":
                        c = B()
                        c.m2()
                        pilihMenu = input("Pilih Menu(nomor) : ") 
                        break

            if pilihMenu =="3":
                        c = D()
                        c.m3() 
                        pilihMenu = input("Pilih Menu(nomor) : ") 
                         

            if pilihMenu =="4":
                        nama = input('Masukan Nama Anda:')
                        barang = input('Masukan barang yang dibeli:')
                        jumlah = int(input('Masukan jumlah barang:'))
                        total = int(input('Masukan total beli:'))
                        tambah_data(nama,barang,jumlah,total)       

         #Jika pilih Langsung Beli
         elif pil == "4":
                    while(True) :
                      Kategori()
                      pilihKategori = input("Pilih Kategori(nomor) : ") 
                      if pilihKategori == "1" :
                                print("1.Paralon VIVA ---- Rp.80.000/PCS")    
                                print("2.Paralon HCI ---- Rp.95.000/PCS")
                                print("3.Paralon ITY ---- Rp.120.000/PCS")
                                pilihBarang = input("Pilih Barang(nomor) : ")
                                if pilihBarang == "1":
                                  x = int(input("Banyak Barang :"))
                                  Par_1 = x*80000
                                  print ("Total Harga :",Par_1)
                                  break
                                elif pilihBarang == "2":
                                  x = int(input("Banyak Barang :"))
                                  Par_2= x*95000
                                  print ("Total Harga :",Par_2)
                                  break
                                elif pilihBarang == "3":
                                  x = int(input("Banyak Barang :"))
                                  Par_3 = x*120000
                                  print ("Total Harga :",Par_3)
                                  
                                else :
                                  print("Inputan Tidak Dikenali")

                                
                      elif pilihKategori == "2" :
                                print("1.Semen 3 Roda ---- Rp.235.000")
                                print("2.Semen Haki ---- Rp.159.000")
                                print("3.Semen Irplus ---- Rp.247.000")
                                pilihBarang = input("Pilih Barang(nomor) : ")
                                if pilihBarang == "1":
                                  x = int(input("Banyak Barang :"))
                                  Smn_1 = x*235000
                                  print ("Total Harga :",Smn_1)
                                  break
                                elif pilihBarang == "2":
                                  x = int(input("Banyak Barang :"))
                                  Smn_2 = x*159000
                                  print ("Total Harga :",Smn_2)
                                  break
                                elif pilihBarang == "3":
                                  x = int(input("Banyak Barang :"))
                                  Smn_3 = x*247000
                                  print ("Total Harga :",Smn_3)
                                  
                                else :
                                  print("Inputan Tidak Dikenali")
  
                      elif pilihKategori == "3" :
                                print("1.Keramik Batu Alam ---- Rp.950.000")
                                print("2.Keramik Dinding ---- Rp.500.000")
                                print("3.Keramik Lantai ---- Rp.650.000")
                                pilihBarang = input("Pilih Barang(nomor) : ")
                                if pilihBarang == "1":
                                  x = int(input("Banyak Barang :"))
                                  Ker_1 = x*950000
                                  print ("Total Harga :",Ker_1)
                                  break
                                elif pilihBarang == "2":
                                  x = int(input("Banyak Barang :"))
                                  Ker_2 = x*500000
                                  print ("Total Harga :",Ker_2)
                                  break
                                elif pilihBarang == "3":
                                  x = int(input("Banyak Barang :"))
                                  Ker_3 = x*650000
                                  print ("Total Harga :",Ker_3)
                                  
                                else :
                                  print("Inputan Tidak Dikenali")

                      elif pilihKategori == "4" :
                                print("1.Cat Dinding ---- Rp.95.000")
                                print("2.Cat Minyak ---- Rp.58.000")
                                print("3.Thinner ---- Rp.79.000")
                                pilihBarang = input("Pilih Barang(nomor) : ")
                                if pilihBarang == "1":
                                  x = int(input("Banyak Barang :"))
                                  Cat_1 = x*95000
                                  print ("Total Harga :",Cat_1)
                                  break
                                elif pilihBarang == "2":
                                  x = int(input("Banyak Barang :"))
                                  Cat_2 = x*58000
                                  print ("Total Harga :",Cat_2)
                                  break
                                elif pilihBarang == "3":
                                  x = int(input("Banyak Barang :"))
                                  Cat_3 = x*79000
                                  print ("Total Harga :",Cat_3)
                                else :
                                  print("Inputan Tidak Dikenali")
                      elif pilihKategori == "5" :
                                break
                      else :
                                print("Inputan Tidak Dikenali")

         elif pil == "5":
            print('='*50)
            print('-'*90)
            print("Berikut Info Data Pembelian")
            print('-'*90)
            cek_data_pembelian()

         #Jika pilih Selesai
         elif pil == "6":
           selesai()
            
         
         #Jika Pilihan tidak sesuai
         else: 
           print("Maaf, Pilihan Anda Tidak Sesuai")
           print("------------------------------------------")
           print("MOHON COBA LAGI")
           print("------------------------------------------")

           #Created By Friska Andalusia